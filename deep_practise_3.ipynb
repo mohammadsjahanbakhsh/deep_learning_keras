{
  "nbformat": 4,
  "nbformat_minor": 0,
  "metadata": {
    "colab": {
      "private_outputs": true,
      "provenance": [],
      "gpuType": "T4",
      "authorship_tag": "ABX9TyOVLfT+Ec3s8X04nKTFe2Qj",
      "include_colab_link": true
    },
    "kernelspec": {
      "name": "python3",
      "display_name": "Python 3"
    },
    "language_info": {
      "name": "python"
    },
    "accelerator": "GPU"
  },
  "cells": [
    {
      "cell_type": "markdown",
      "metadata": {
        "id": "view-in-github",
        "colab_type": "text"
      },
      "source": [
        "<a href=\"https://colab.research.google.com/github/mohammadsjahanbakhsh/deep_learning_keras/blob/main/deep_practise_3.ipynb\" target=\"_parent\"><img src=\"https://colab.research.google.com/assets/colab-badge.svg\" alt=\"Open In Colab\"/></a>"
      ]
    },
    {
      "cell_type": "code",
      "execution_count": null,
      "metadata": {
        "id": "aULg600JgNjv"
      },
      "outputs": [],
      "source": []
    },
    {
      "cell_type": "code",
      "source": [
        "!pip install kaggle"
      ],
      "metadata": {
        "id": "UcRstscYM1qe"
      },
      "execution_count": null,
      "outputs": []
    },
    {
      "cell_type": "code",
      "source": [
        "from google.colab import files\n",
        "files.upload()"
      ],
      "metadata": {
        "id": "pGS2fdihT89T"
      },
      "execution_count": null,
      "outputs": []
    },
    {
      "cell_type": "code",
      "source": [
        "! mkdir ~/.kaggle"
      ],
      "metadata": {
        "id": "7ZLnoZ3pO5vD"
      },
      "execution_count": null,
      "outputs": []
    },
    {
      "cell_type": "code",
      "source": [
        "! cp kaggle.json ~/.kaggle/"
      ],
      "metadata": {
        "id": "WLnSDhF3UP--"
      },
      "execution_count": null,
      "outputs": []
    },
    {
      "cell_type": "code",
      "source": [
        "!chmod 600 ~/.kaggle/kaggle.json\n",
        "\n",
        "! kaggle datasets list"
      ],
      "metadata": {
        "id": "nKMMRAAQO-gY"
      },
      "execution_count": null,
      "outputs": []
    },
    {
      "cell_type": "code",
      "source": [
        "! kaggle datasets download -d jangedoo/utkface-new"
      ],
      "metadata": {
        "id": "vUAjuV0cPDXY"
      },
      "execution_count": null,
      "outputs": []
    },
    {
      "cell_type": "code",
      "source": [
        "!unzip /content/utkface-new.zip"
      ],
      "metadata": {
        "id": "-7mTl8r-TyBa"
      },
      "execution_count": null,
      "outputs": []
    },
    {
      "cell_type": "code",
      "source": [],
      "metadata": {
        "id": "msJriMS8g1UP"
      },
      "execution_count": null,
      "outputs": []
    },
    {
      "cell_type": "code",
      "source": [
        "import tensorflow as tf\n",
        "from tensorflow.keras.utils import load_img\n",
        "from keras.models import Sequential,Model\n",
        "from keras.layers import Dense, Conv2D,Dropout,Flatten,MaxPooling2D,Input\n",
        "import numpy as np\n",
        "import pandas as pd\n",
        "import matplotlib.pyplot as plt\n",
        "import os\n",
        "import seaborn as sns\n",
        "from tqdm.notebook import tqdm\n",
        "import tensorflow.keras as keras\n",
        "from tensorflow.keras.preprocessing.image import ImageDataGenerator\n",
        "import random"
      ],
      "metadata": {
        "id": "ygcQNAqdIaof"
      },
      "execution_count": null,
      "outputs": []
    },
    {
      "cell_type": "code",
      "source": [
        "# primary_directory = '/content/UTKFace'\n",
        "primary_directory = '/content/crop_part1'\n",
        "\n"
      ],
      "metadata": {
        "id": "pMeCTA-5Iaog"
      },
      "execution_count": null,
      "outputs": []
    },
    {
      "cell_type": "code",
      "source": [
        "\n",
        "age_labels = []\n",
        "gender_labels = []\n",
        "image_paths = []\n",
        "\n",
        "image_filenames = os.listdir(primary_directory)\n",
        "random.shuffle(image_filenames)\n",
        "\n",
        "for image in tqdm(image_filenames):\n",
        "\n",
        "  image_path = os.path.join(primary_directory, image)\n",
        "  img_components = image.split('_')\n",
        "  age_label = int(img_components[0])\n",
        "  gender_label = int(img_components[1])\n",
        "\n",
        "  age_labels.append(age_label)\n",
        "  gender_labels.append(gender_label)\n",
        "  image_paths.append(image_path)"
      ],
      "metadata": {
        "id": "TYyy9XTQIaog"
      },
      "execution_count": null,
      "outputs": []
    },
    {
      "cell_type": "code",
      "source": [
        "gender_mapping = {\n",
        "    1: 'Female',\n",
        "    0: 'Male'\n",
        "}"
      ],
      "metadata": {
        "id": "Ad9mBB5gIaoh"
      },
      "execution_count": null,
      "outputs": []
    },
    {
      "cell_type": "code",
      "source": [
        "\n",
        "df = pd.DataFrame()\n",
        "df['image_path'], df['age'], df['gender'] = image_paths, age_labels, gender_labels\n",
        "df.drop(df[df.gender==3].index , inplace=True)\n",
        "df"
      ],
      "metadata": {
        "id": "CGIUwKjuIaoh"
      },
      "execution_count": null,
      "outputs": []
    },
    {
      "cell_type": "code",
      "source": [
        "from keras.utils import load_img\n",
        "from PIL import Image\n",
        "def load(path):\n",
        "#   return np.array( [tf.keras.utils.img_to_array(load_img(img,color_mode=\"grayscale\" ).resize((128, 128), Image.Resampling.LANCZOS)) for img in tqdm(path)] )\n",
        "  return np.array( [tf.keras.utils.img_to_array(load_img(img )) for img in tqdm(path)] )\n",
        "\n"
      ],
      "metadata": {
        "id": "yL6K5EefIaoh"
      },
      "execution_count": null,
      "outputs": []
    },
    {
      "cell_type": "code",
      "source": [
        "sns.set_theme()\n",
        "sns.displot(df.age,kde=True, bins=30)"
      ],
      "metadata": {
        "id": "xZFEnOzU0Kae"
      },
      "execution_count": null,
      "outputs": []
    },
    {
      "cell_type": "code",
      "source": [
        "under4s = []\n",
        "\n",
        "for i in range(len(df)):\n",
        "    if df['age'].iloc[i] <= 4:\n",
        "        under4s.append(df.iloc[i])\n",
        "under4s = pd.DataFrame(under4s)\n",
        "under4s = under4s.sample(frac=0.3)\n",
        "\n",
        "df = df[df['age'] > 4]\n",
        "\n",
        "df = pd.concat([df, under4s], ignore_index = True)"
      ],
      "metadata": {
        "id": "HEuJtB-8I2Pi"
      },
      "execution_count": null,
      "outputs": []
    },
    {
      "cell_type": "code",
      "source": [
        "sns.displot(df['age'],kde=True, bins=30)"
      ],
      "metadata": {
        "id": "P9TwUJ7f38CO"
      },
      "execution_count": null,
      "outputs": []
    },
    {
      "cell_type": "code",
      "source": [
        "df = df[df['age'] < 80]"
      ],
      "metadata": {
        "id": "YRIyHK3a4Iwx"
      },
      "execution_count": null,
      "outputs": []
    },
    {
      "cell_type": "code",
      "source": [
        "sns.displot(df['age'],kde=True, bins=20)"
      ],
      "metadata": {
        "id": "oVDKb3le4MOb"
      },
      "execution_count": null,
      "outputs": []
    },
    {
      "cell_type": "code",
      "source": [
        "# df.gender=df.gender.\n",
        "plt.hist(df.gender.astype(\"object\").replace(gender_mapping,regex=True),bins=3)\n",
        "plt.show()"
      ],
      "metadata": {
        "id": "xzoai6jo55pZ"
      },
      "execution_count": null,
      "outputs": []
    },
    {
      "cell_type": "code",
      "source": [
        "# X = (load(df[\"image_path\"]).astype('float32')) / 255.\n",
        "X = (load(df[\"image_path\"]).astype('float32'))\n",
        "y=df.iloc[:,1:].values.astype(\"float32\")"
      ],
      "metadata": {
        "id": "45YQ1J2n8sXe"
      },
      "execution_count": null,
      "outputs": []
    },
    {
      "cell_type": "code",
      "source": [
        "from sklearn.model_selection import ShuffleSplit\n",
        "\n",
        "split_ = ShuffleSplit(n_splits=1, test_size=0.2)\n",
        "train_index, test_index = next(split_.split(X, y))\n",
        "X_train, X_test = X[train_index], X[test_index]\n",
        "y_train, y_test = y[train_index], y[test_index]\n",
        "del X\n",
        "del y"
      ],
      "metadata": {
        "id": "fz9bhjfj07Dw"
      },
      "execution_count": null,
      "outputs": []
    },
    {
      "cell_type": "code",
      "source": [],
      "metadata": {
        "id": "Y_FiWJVeiIIM"
      },
      "execution_count": null,
      "outputs": []
    },
    {
      "cell_type": "code",
      "source": [
        "\n",
        "datagen_train = ImageDataGenerator(\n",
        "    # preprocessing_function=keras.applications.resnet50.preprocess_input,\n",
        "    rotation_range=15,\n",
        "    shear_range=0.2,\n",
        "    zoom_range=0.1,\n",
        "    width_shift_range=0.1,\n",
        "    height_shift_range=0.1,\n",
        "    horizontal_flip=True,\n",
        "    # vertical_flip=True,\n",
        "    # featurewise_center=True,\n",
        "    # featurewise_std_normalization=True,\n",
        "    rescale=1./255\n",
        "\n",
        "                             )\n",
        "# calculate mean on training dataset\n",
        "\n",
        "datagen_test = ImageDataGenerator(\n",
        "    # preprocessing_function=keras.applications.resnet50.preprocess_input,\n",
        "    rescale=1./255\n",
        ")\n",
        "# prepare an iterators to scale images\n",
        "train_age = datagen_train.flow(X_train, y_train[:,0], batch_size=128)\n",
        "test_age = datagen_test.flow(X_test, y_test[:,0], batch_size=128)"
      ],
      "metadata": {
        "id": "GnFRhsxnQav_"
      },
      "execution_count": null,
      "outputs": []
    },
    {
      "cell_type": "code",
      "source": [
        "train_gender = datagen_train.flow(X_train, y_train[:,1], batch_size=32)\n",
        "test_gender = datagen_test.flow(X_test, y_test[:,1], batch_size=32)"
      ],
      "metadata": {
        "id": "cZpxMIlNQIPk"
      },
      "execution_count": null,
      "outputs": []
    },
    {
      "cell_type": "code",
      "source": [
        "from keras.applications import vgg16\n",
        "from keras.models import Sequential\n",
        "from keras.layers import Dense, Dropout, Activation, Flatten, GlobalAveragePooling2D\n",
        "from keras.layers import Conv2D, MaxPooling2D, ZeroPadding2D\n",
        "from keras.layers import BatchNormalization\n",
        "from keras.models import Model\n",
        "\n",
        "vgg = vgg16.VGG16(weights = 'imagenet',\n",
        "                 include_top = False,\n",
        "                 input_shape = (200, 200, 3))\n",
        "\n",
        "for layer in vgg.layers:\n",
        "    layer.trainable = False\n",
        "\n",
        "def lw(bottom_model, num_classes):\n",
        "    \"\"\"creates the top or head of the model that will be\n",
        "    placed ontop of the bottom layers\"\"\"\n",
        "\n",
        "    top_model = bottom_model.output\n",
        "    top_model = GlobalAveragePooling2D()(top_model)\n",
        "    top_model = Dense(1024,activation='relu')(top_model)\n",
        "    top_model = Dense(1024,activation='relu')(top_model)\n",
        "    top_model = Dense(512,activation='relu')(top_model)\n",
        "    top_model = Dense(1, activation='relu')(top_model)\n",
        "    return top_model\n",
        "num_classes = 2\n",
        "\n",
        "FC_Head = lw(vgg, num_classes)\n",
        "\n",
        "model = Model(inputs = vgg.input, outputs = FC_Head)\n",
        "\n",
        "print(model.summary())"
      ],
      "metadata": {
        "id": "I-FBCwUsSOYn"
      },
      "execution_count": null,
      "outputs": []
    },
    {
      "cell_type": "code",
      "source": [
        "model.compile(loss = 'mse',\n",
        "              optimizer = keras.optimizers.Adam(learning_rate = 0.001),\n",
        "              )\n"
      ],
      "metadata": {
        "id": "eUunrAiMSzUn"
      },
      "execution_count": null,
      "outputs": []
    },
    {
      "cell_type": "code",
      "source": [
        "history2 = model.fit(\n",
        "    train_age,\n",
        "    epochs=50,\n",
        "    shuffle=True,\n",
        "    validation_data=test_age,\n",
        "    callbacks = [tf.keras.callbacks.EarlyStopping(monitor = 'val_loss', patience =4 )]\n",
        "                        )"
      ],
      "metadata": {
        "id": "eEiHn4LnS_WQ"
      },
      "execution_count": null,
      "outputs": []
    },
    {
      "cell_type": "code",
      "source": [
        "\n",
        "vgg = vgg16.VGG16(weights = 'imagenet',\n",
        "                 include_top = False,\n",
        "                 input_shape = (200, 200, 3))\n",
        "\n",
        "for layer in vgg.layers:\n",
        "    layer.trainable = False\n",
        "\n",
        "def lw(bottom_model, num_classes):\n",
        "    \"\"\"creates the top or head of the model that will be\n",
        "    placed ontop of the bottom layers\"\"\"\n",
        "\n",
        "    top_model = bottom_model.output\n",
        "    top_model = GlobalAveragePooling2D()(top_model)\n",
        "    top_model = Dense(1024,activation='relu')(top_model)\n",
        "    top_model = Dense(1024,activation='relu')(top_model)\n",
        "    top_model = Dense(512,activation='relu')(top_model)\n",
        "    top_model = Dense(1)(top_model)\n",
        "    return top_model\n",
        "num_classes = 2\n",
        "\n",
        "FC_Head = lw(vgg, num_classes)\n",
        "\n",
        "model = Model(inputs = vgg.input, outputs = FC_Head)\n",
        "\n",
        "print(model.summary())"
      ],
      "metadata": {
        "id": "OqAn13WlT0dT"
      },
      "execution_count": null,
      "outputs": []
    },
    {
      "cell_type": "code",
      "source": [
        "model.compile(\n",
        "    loss=tf.keras.losses.BinaryCrossentropy(from_logits=True),\n",
        "    optimizer='adam',\n",
        "    metrics=['accuracy'])"
      ],
      "metadata": {
        "id": "HRp_k3Y4bbag"
      },
      "execution_count": null,
      "outputs": []
    },
    {
      "cell_type": "code",
      "source": [
        "history2 = model.fit(\n",
        "    train_gender,\n",
        "    epochs=50,\n",
        "    shuffle=True,\n",
        "    validation_data=test_gender,\n",
        "    callbacks = [tf.keras.callbacks.EarlyStopping(monitor = 'val_loss', patience =5 )]\n",
        "                        )"
      ],
      "metadata": {
        "id": "CdEPHbEYcWxf"
      },
      "execution_count": null,
      "outputs": []
    },
    {
      "cell_type": "code",
      "source": [],
      "metadata": {
        "id": "Exa4_kU1hLW7"
      },
      "execution_count": null,
      "outputs": []
    }
  ]
}