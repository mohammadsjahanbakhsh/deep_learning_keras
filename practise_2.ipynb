{
  "nbformat": 4,
  "nbformat_minor": 0,
  "metadata": {
    "colab": {
      "private_outputs": true,
      "provenance": [],
      "gpuType": "T4",
      "authorship_tag": "ABX9TyPfBf3A2ij73ulrAZ+xZYtn",
      "include_colab_link": true
    },
    "kernelspec": {
      "name": "python3",
      "display_name": "Python 3"
    },
    "language_info": {
      "name": "python"
    },
    "accelerator": "GPU"
  },
  "cells": [
    {
      "cell_type": "markdown",
      "metadata": {
        "id": "view-in-github",
        "colab_type": "text"
      },
      "source": [
        "<a href=\"https://colab.research.google.com/github/mohammadsjahanbakhsh/deep_learning_keras/blob/main/practise_2.ipynb\" target=\"_parent\"><img src=\"https://colab.research.google.com/assets/colab-badge.svg\" alt=\"Open In Colab\"/></a>"
      ]
    },
    {
      "cell_type": "code",
      "execution_count": null,
      "metadata": {
        "id": "cCqT2VGelCYi"
      },
      "outputs": [],
      "source": [
        "import os\n",
        "import numpy as np\n",
        "import pandas as pd\n",
        "import matplotlib.pyplot as plt\n",
        "import tensorflow.keras as keras\n",
        "import glob\n",
        "from tensorflow.keras.preprocessing.image import ImageDataGenerator\n",
        "from keras import layers\n",
        "from tensorflow.keras.models import Sequential\n",
        "import tensorflow as tf"
      ]
    },
    {
      "cell_type": "code",
      "source": [
        "!git clone https://github.com/mohammadsjahanbakhsh/deep_learning_keras"
      ],
      "metadata": {
        "id": "WuQeUMjnlMlB"
      },
      "execution_count": null,
      "outputs": []
    },
    {
      "cell_type": "code",
      "source": [
        "!wget https://storage.googleapis.com/tensorflow/keras-applications/resnet/resnet50_weights_tf_dim_ordering_tf_kernels_notop.h5"
      ],
      "metadata": {
        "id": "UNq4qAEURA_l"
      },
      "execution_count": null,
      "outputs": []
    },
    {
      "cell_type": "code",
      "source": [
        "n_class = 17\n",
        "img_sizes = (240,240,3)\n",
        "batch_size = 64\n",
        "epochs = 30"
      ],
      "metadata": {
        "id": "Tah7oj6dlOKZ"
      },
      "execution_count": null,
      "outputs": []
    },
    {
      "cell_type": "code",
      "source": [
        "!unzip /content/deep_learning_keras/dataset/myflower2.zip\n",
        "train_path = \"/content/deep_learning_keras/dataset/17flowerclasses/train\"\n",
        "valid_path = \"/content/deep_learning_keras/dataset/17flowerclasses/test\"\n",
        "my_flower = \"/content/myflower2\""
      ],
      "metadata": {
        "id": "Ce9geYg710I5"
      },
      "execution_count": null,
      "outputs": []
    },
    {
      "cell_type": "code",
      "source": [
        "# data augmentation and preprocessing with resnet50\n",
        "trainGen = ImageDataGenerator(\n",
        "    preprocessing_function=keras.applications.resnet50.preprocess_input,\n",
        "    rotation_range=45,\n",
        "    shear_range=0.3,\n",
        "    zoom_range=0.3,\n",
        "    width_shift_range=0.2,\n",
        "    height_shift_range=0.2,\n",
        "    horizontal_flip=True,\n",
        "    vertical_flip=True,\n",
        "    # rescale=1./255\n",
        ")\n",
        "\n",
        "\n",
        "train_gen_data = trainGen.flow_from_directory(\n",
        "    train_path,\n",
        "    target_size=img_sizes[:2],\n",
        "    batch_size=batch_size,\n",
        "    class_mode='categorical',\n",
        "    subset='training',\n",
        "    seed=0\n",
        ")\n",
        "\n",
        "valid_Gen = ImageDataGenerator(\n",
        "    preprocessing_function=keras.applications.resnet50.preprocess_input,\n",
        "    # rescale=1./255\n",
        ")\n",
        "\n",
        "validation_gen_data = valid_Gen.flow_from_directory(\n",
        "    valid_path,\n",
        "    target_size=img_sizes[:2],\n",
        "    batch_size=batch_size,\n",
        "    class_mode=\"categorical\",\n",
        "    # subset=\"validation\",\n",
        "    seed=0 )\n",
        "\n",
        "\n",
        "labels = dict((v,k) for k,v in train_gen_data.class_indices.items())\n",
        "print(labels)"
      ],
      "metadata": {
        "id": "YdtzECDMlWAv"
      },
      "execution_count": null,
      "outputs": []
    },
    {
      "cell_type": "code",
      "source": [],
      "metadata": {
        "id": "gxALoiWHHZK-"
      },
      "execution_count": null,
      "outputs": []
    },
    {
      "cell_type": "code",
      "source": [
        "\n",
        "weights_file_path = \"/content/resnet50_weights_tf_dim_ordering_tf_kernels_notop.h5\"\n",
        "model = keras.models.Sequential([\n",
        "    keras.applications.ResNet50(\n",
        "        include_top = False,\n",
        "        pooling = 'avg',\n",
        "        weights = weights_file_path,\n",
        "    ),\n",
        "\n",
        "    layers.BatchNormalization(),\n",
        "    layers.Dense(256,activation='relu'),\n",
        "    layers.Dropout(.5),\n",
        "    layers.Dense(128,activation='relu'),\n",
        "    layers.Dropout(.5),\n",
        "    layers.Dense(n_class,activation='softmax')\n",
        "])\n",
        "model.layers[0].trainable = False\n",
        "print(model)\n"
      ],
      "metadata": {
        "id": "KLf6HzCVQwGk"
      },
      "execution_count": null,
      "outputs": []
    },
    {
      "cell_type": "code",
      "source": [
        "\n",
        "model.summary()"
      ],
      "metadata": {
        "id": "dNYG600-7u2U"
      },
      "execution_count": null,
      "outputs": []
    },
    {
      "cell_type": "code",
      "source": [
        "\n",
        "model.compile(\n",
        "      optimizer='adam',\n",
        "      loss='categorical_crossentropy',\n",
        "      metrics=['accuracy']\n",
        "      )"
      ],
      "metadata": {
        "id": "oJ5PFAPHRLgk"
      },
      "execution_count": null,
      "outputs": []
    },
    {
      "cell_type": "code",
      "source": [
        "history = model.fit(\n",
        "            train_gen_data,\n",
        "            validation_data=validation_gen_data,\n",
        "            batch_size=batch_size,\n",
        "            callbacks = [keras.callbacks.EarlyStopping(monitor = 'val_loss', patience = 5)] ,\n",
        "            epochs=epochs,\n",
        "            )"
      ],
      "metadata": {
        "id": "DOgc12FfRM1o"
      },
      "execution_count": null,
      "outputs": []
    },
    {
      "cell_type": "markdown",
      "source": [
        "# vidualize loss & accuracy for Test & train"
      ],
      "metadata": {
        "id": "K0aXC9aVHKzE"
      }
    },
    {
      "cell_type": "code",
      "source": [
        "\n",
        "fig , ax = plt.subplots(1,2)\n",
        "train_acc = history.history['accuracy']\n",
        "train_loss = history.history['loss']\n",
        "val_acc = history.history['val_accuracy']\n",
        "val_loss = history.history['val_loss']\n",
        "fig.set_size_inches(20,10)\n",
        "\n",
        "ax[0].plot(history.epoch , train_acc , 'go-' , label = 'Training Accuracy')\n",
        "ax[0].plot(history.epoch, val_acc , 'ro-' , label = 'Validation Accuracy')\n",
        "ax[0].set_title('Training & Validation Accuracy')\n",
        "ax[0].legend()\n",
        "ax[0].set_xlabel(\"Epochs\")\n",
        "ax[0].set_ylabel(\"Accuracy\")\n",
        "ax[0].grid()\n",
        "\n",
        "ax[1].plot(history.epoch, train_loss , 'g-o' , label = 'Training Loss')\n",
        "ax[1].plot(history.epoch , val_loss , 'r-o' , label = 'Validation Loss')\n",
        "ax[1].set_title('Testing Accuracy & Loss')\n",
        "ax[1].legend()\n",
        "ax[1].set_xlabel(\"Epochs\")\n",
        "ax[1].set_ylabel(\"Training & Validation Loss\")\n",
        "ax[1].grid()\n",
        "plt.show()"
      ],
      "metadata": {
        "id": "e6qs6D-iRWW6"
      },
      "execution_count": null,
      "outputs": []
    },
    {
      "cell_type": "markdown",
      "source": [
        "# پیشبینی و مصورسازی چند تصویر از خارج دیتاست"
      ],
      "metadata": {
        "id": "U9CSCxi_HCZy"
      }
    },
    {
      "cell_type": "code",
      "source": [
        "predicted_class = train_gen_data.class_indices\n",
        "train_gen_data.class_indices"
      ],
      "metadata": {
        "id": "wDsiAlxZ6Teb"
      },
      "execution_count": null,
      "outputs": []
    },
    {
      "cell_type": "code",
      "source": [
        "new_images=glob.glob(os.path.join(my_flower,\"*/*.jpg\"))\n",
        "new_images"
      ],
      "metadata": {
        "id": "X9e-G1TAFEJ8"
      },
      "execution_count": null,
      "outputs": []
    },
    {
      "cell_type": "code",
      "source": [
        "def image_show(path):\n",
        "\n",
        "  true_class=path.split(\"/\")[3]\n",
        "\n",
        "  img = tf.keras.preprocessing.image.load_img(path, target_size=(240, 240,3))\n",
        "  img_array = tf.keras.preprocessing.image.img_to_array(img)\n",
        "  img_array=keras.applications.resnet50.preprocess_input(img_array)\n",
        "  img_array = tf.expand_dims(img_array, 0)\n",
        "  predictions = int(np.argmax(model.predict(img_array),axis=1))\n",
        "  plt.imshow(img)\n",
        "  plt.title(f\"true : {true_class}  , pred:  {predicted_class[predictions]}\")\n",
        "  plt.show()\n",
        "\n",
        "image_show(new_images[0])"
      ],
      "metadata": {
        "id": "eTc0c1ax_Pv6"
      },
      "execution_count": null,
      "outputs": []
    },
    {
      "cell_type": "code",
      "source": [
        "image_show(new_images[1])"
      ],
      "metadata": {
        "id": "csKais5f_f4B"
      },
      "execution_count": null,
      "outputs": []
    },
    {
      "cell_type": "code",
      "source": [
        "image_show(new_images[2])"
      ],
      "metadata": {
        "id": "N-K_1KCGD_oK"
      },
      "execution_count": null,
      "outputs": []
    },
    {
      "cell_type": "code",
      "source": [
        "image_show(new_images[3])"
      ],
      "metadata": {
        "id": "baUhOSNXEFLe"
      },
      "execution_count": null,
      "outputs": []
    },
    {
      "cell_type": "code",
      "source": [
        "image_show(new_images[4])"
      ],
      "metadata": {
        "id": "x0obf8xKGzns"
      },
      "execution_count": null,
      "outputs": []
    },
    {
      "cell_type": "code",
      "source": [
        "image_show(new_images[5])"
      ],
      "metadata": {
        "id": "W0x7UEdIG3Qt"
      },
      "execution_count": null,
      "outputs": []
    },
    {
      "cell_type": "code",
      "source": [],
      "metadata": {
        "id": "fbpU1TwgG5db"
      },
      "execution_count": null,
      "outputs": []
    }
  ]
}